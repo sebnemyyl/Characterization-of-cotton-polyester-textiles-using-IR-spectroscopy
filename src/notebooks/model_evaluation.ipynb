{
 "cells": [
  {
   "cell_type": "markdown",
   "metadata": {},
   "source": [
    "# Model Evaluation\n",
    "RMSE and R<sup>2</sup> results of the ML algorithm&preprocessing combinations are compared in heatmaps. \n",
    "\n",
    "ML algorithms used in this thesis are:\n",
    "- CNN: Convolutional Neural Network\n",
    "- KNN: K-Nearest Neighbor Regressor\n",
    "- MLP: Multilayer Perceptron neural network\n",
    "- Kernel Ridge: Kernel Ridge Regressor (polynomial kernel)\n",
    "- PLS: Partial Least Squares Regressor\n",
    "- Random Forest: Random Forest Regressor\n",
    "- XGBoost: Extreme Gradient Boosting Regressor\n",
    "- LSSVM: Least Squares Support Vector Machine Regressor"
   ]
  },
  {
   "cell_type": "code",
   "execution_count": 1,
   "metadata": {},
   "source": [
    "import pandas as pd\n",
    "import os \n",
    "import matplotlib.pyplot as plt\n",
    "import seaborn as sns\n",
    "import sys\n",
    "# Needed for Python to find the util modules\n",
    "sys.path.insert(0, \"src\")\n",
    "sys.path.insert(0, \"..\")\n",
    "import util.m06_model_plotting as plot_util\n",
    "import util.m00_general_util as util"
   ],
   "outputs": []
  },
  {
   "cell_type": "code",
   "execution_count": 2,
   "metadata": {},
   "source": [
    "print(os.getcwd())\n",
    "os.chdir(\"../..\")"
   ],
   "outputs": []
  },
  {
   "cell_type": "code",
   "execution_count": 33,
   "metadata": {},
   "source": [
    "# Combining JSON files into one\n",
    "my_files = [\"temp/model_evaluation/model_output_kernel_ridge_poly.json\", \n",
    "            \"temp/model_evaluation/model_output_knn.json\", \n",
    "            \"temp/model_evaluation/model_output_random_forest.json\",\n",
    "            \"temp/model_evaluation/model_output_pls.json\", \n",
    "            \"temp/model_evaluation/model_output_mlp.json\",\n",
    "            \"temp/model_evaluation/model_output_xgboost.json\",\n",
    "            \"temp/model_evaluation/model_output_cnn1.json\",\n",
    "            \"temp/model_evaluation/model_output_cnn2.json\",\n",
    "            \"temp/model_evaluation/model_output_lssvm_poly.json\",\n",
    "         ]\n",
    "util.merge_json_files(my_files, output_file=\"model_output.json\")"
   ],
   "outputs": []
  },
  {
   "cell_type": "code",
   "execution_count": 3,
   "metadata": {},
   "source": [
    "def show_train_test_heatmap_old(model_results, title, left_metric = \"Test_R2\", right_metric = \"Train_R2\", cmap = \"YlGnBu\"):\n",
    "    pivot = plot_util.create_model_performance_pivot(model_results, metric=left_metric)\n",
    "    fig, axes = plt.subplots(1, 2, figsize=(15,4))\n",
    "    ax1, ax2 = axes\n",
    "    sns.heatmap(pivot, cmap=cmap, annot=True, fmt=\".3f\", ax=ax1)\n",
    "    ax1.set_title(f\"{title} - {left_metric}\")\n",
    "    pivot = plot_util.create_model_performance_pivot(model_results, metric=right_metric)\n",
    "    sns.heatmap(pivot, cmap=cmap, annot=True, fmt=\".3f\", ax=ax2)\n",
    "    ax2.set_title(f\"{title} - {right_metric}\")\n",
    "    plt.show()"
   ],
   "outputs": []
  },
  {
   "cell_type": "code",
   "execution_count": 27,
   "metadata": {
    "jupyter": {
     "source_hidden": true
    }
   },
   "source": [
    "def show_train_test_heatmap(model_results, title, left_metric=\"Test_R2\", right_metric=\"Train_R2\", cmap=\"YlGnBu\"):\n",
    "    # Create pivots for heatmaps\n",
    "    pivot_left = plot_util.create_model_performance_pivot(model_results, metric=left_metric)\n",
    "    pivot_right = plot_util.create_model_performance_pivot(model_results, metric=right_metric)\n",
    "\n",
    "    # Determine the global min and max for color scaling\n",
    "    vmin = min(pivot_left.min().min(), pivot_right.min().min())\n",
    "    vmax = max(pivot_left.max().max(), pivot_right.max().max())\n",
    "\n",
    "    # Set figure size dynamically based on the pivot table shape\n",
    "    rows, cols = pivot_left.shape\n",
    "    fig_size = (cols * 1.5, rows * 1.5)  # Adjust scaling factor as needed\n",
    "\n",
    "    # Create figure and axes for heatmaps\n",
    "    fig, axes = plt.subplots(1, 2, figsize=fig_size, gridspec_kw={'width_ratios': [1, 1], 'wspace': 0.3})\n",
    "    ax1, ax2 = axes\n",
    "\n",
    "    # Create the heatmaps with shared vmin/vmax and smaller font size\n",
    "    sns.heatmap(pivot_left, cmap=cmap, annot=True, fmt=\".3f\", ax=ax1, vmin=vmin, vmax=vmax, cbar=False, \n",
    "                square=True, annot_kws={\"size\": 10})  # Adjust annotation font size\n",
    "    ax1.set_title(f\"{title} - {left_metric}\", fontsize=10)  # Adjust title font size\n",
    "    ax1.set_aspect(\"equal\")  \n",
    "    ax1.set_xticklabels(ax1.get_xticklabels(), fontsize=8)  # Adjust x-axis label size\n",
    "    ax1.set_yticklabels(ax1.get_yticklabels(), fontsize=8)  # Adjust y-axis label size\n",
    "\n",
    "    # Adjust the colorbar size to match the heatmap\n",
    "    cbar_ax = fig.add_axes([0.92, 0.35, 0.02, 0.3])  # [left, bottom, width, height]\n",
    "    \n",
    "    sns.heatmap(pivot_right, cmap=cmap, annot=True, fmt=\".3f\", ax=ax2, vmin=vmin, vmax=vmax, cbar=True, \n",
    "                cbar_ax=cbar_ax, square=True, annot_kws={\"size\": 10}, cbar_kws={\"shrink\": 0.8})  \n",
    "    ax2.set_title(f\"{title} - {right_metric}\", fontsize=10)  \n",
    "    ax2.set_aspect(\"equal\")  \n",
    "    ax2.set_xticklabels(ax2.get_xticklabels(), fontsize=8)  \n",
    "    ax2.set_yticklabels(ax2.get_yticklabels(), fontsize=8)  \n",
    "\n",
    "    # Adjust colorbar font size\n",
    "    cbar_ax.tick_params(labelsize=10)  \n",
    "\n",
    "    # Show the plot\n",
    "    plt.show()\n"
   ],
   "outputs": []
  },
  {
   "cell_type": "code",
   "execution_count": 22,
   "metadata": {},
   "source": [
    "def show_single_heatmap(model_results, title, metric=\"Test_R2\", cmap=\"YlGnBu\"):\n",
    "    # Create pivots for heatmaps\n",
    "    pivot = plot_util.create_model_performance_pivot(model_results, metric=metric)\n",
    "\n",
    "    fig, axes = plt.subplots(figsize=(15,6))\n",
    "    rows, cols = pivot.shape\n",
    "    fig_size = (cols * 2, rows * 2)  \n",
    "\n",
    "    sns.heatmap(pivot, cmap=cmap, annot=True, fmt=\".3f\", cbar=True, \n",
    "                square=True, annot_kws={\"size\": 10},vmin=0.5, vmax=4.5)  # Adjust annotation font size\n",
    "    axes.set_title(f\"{title} - {metric}\", fontsize=10)  # Adjust title font size\n",
    "    axes.set_aspect(\"equal\")  \n",
    "    axes.set_xlabel(\"pre-processing\")  # Adjust title font size\n",
    "    axes.set_xticklabels(axes.get_xticklabels(), fontsize=8)  # Adjust x-axis label size\n",
    "    axes.set_yticklabels(axes.get_yticklabels(), fontsize=8)  # Adjust y-axis label size\n",
    "\n",
    "\n",
    "    # Show the plot\n",
    "    plt.show()"
   ],
   "outputs": []
  },
  {
   "cell_type": "code",
   "execution_count": 5,
   "metadata": {},
   "source": [
    "balanced_specimen1_pca = pd.read_json(\"temp/model_evaluation/model_output_plotting.json\")"
   ],
   "outputs": []
  },
  {
   "cell_type": "markdown",
   "metadata": {},
   "source": [
    "## RMSE Heatmaps"
   ]
  },
  {
   "cell_type": "code",
   "execution_count": 28,
   "metadata": {},
   "source": [
    "show_single_heatmap(balanced_specimen1_pca, title=\"Balanced Dataset, Specimen split\", metric=\"Test_RMSE\", cmap=\"YlGnBu_r\")"
   ],
   "outputs": []
  },
  {
   "cell_type": "code",
   "execution_count": 29,
   "metadata": {},
   "source": [
    "show_single_heatmap(balanced_specimen1_pca, title=\"Balanced Dataset, Specimen split\", metric=\"Train_RMSE\", cmap=\"YlGnBu_r\")"
   ],
   "outputs": []
  },
  {
   "cell_type": "markdown",
   "metadata": {},
   "source": [
    "## R<sup>2</sup> Heatmaps"
   ]
  },
  {
   "cell_type": "code",
   "execution_count": 61,
   "metadata": {},
   "source": [
    "show_single_heatmap(balanced_specimen1_pca, title=\"Balanced Dataset, Specimen split\", metric=\"Test_R2\")"
   ],
   "outputs": []
  },
  {
   "cell_type": "code",
   "execution_count": 62,
   "metadata": {},
   "source": [
    "show_single_heatmap(balanced_specimen1_pca, title=\"Balanced Dataset, Specimen split\", metric=\"Train_R2\")"
   ],
   "outputs": []
  },
  {
   "cell_type": "code",
   "execution_count": 11,
   "metadata": {
    "jupyter": {
     "source_hidden": true
    }
   },
   "source": [
    "#balanced_specimen1_no_pca = pd.read_json(\"temp/spectra_treated/nir/balanced/model_output_no_pca.json\")\n",
    "#show_train_test_heatmap(balanced_specimen1_no_pca, \"Balanced Model, Specimen split\")\n",
    "#show_train_test_heatmap(balanced_specimen1_no_pca, \"Balanced Model, Specimen split\", \"Test_RMSE\", \"Train_RMSE\", \"YlGnBu_r\")\n",
    "\n",
    "balanced_specimen1_pca = pd.read_json(\"output/model_evaluation/model_output_balanced_specimen1.json\")\n",
    "balanced_specimen1_pca = balanced_specimen1_pca.loc[balanced_specimen1_pca['model'] != 'SVR']\n",
    "\n",
    "show_train_test_heatmap(balanced_specimen1_pca, \"Balanced Model-PCA, Specimen split\")\n",
    "show_train_test_heatmap(balanced_specimen1_pca, \"Balanced Model-PCA, Specimen split\",left_metric=\"Test_RMSE\", right_metric=\"Train_RMSE\")\n"
   ],
   "outputs": []
  },
  {
   "cell_type": "code",
   "execution_count": 10,
   "metadata": {
    "jupyter": {
     "source_hidden": true
    }
   },
   "source": [
    "balanced_specimen1_pls = pd.read_json(\"output/model_evaluation/model_output_final_models.json\")\n",
    "show_train_test_heatmap(balanced_specimen1_pls, \"Balanced Model-PLS, Specimen split\")\n",
    "#show_train_test_heatmap(balanced_specimen1_pca, \"Balanced Model-PCA-No30, Specimen split\", \"Test_RMSE\", \"Train_RMSE\", \"YlGnBu_r\")\n"
   ],
   "outputs": []
  },
  {
   "cell_type": "code",
   "execution_count": 12,
   "metadata": {
    "jupyter": {
     "source_hidden": true
    }
   },
   "source": [
    "balanced_specimen1_withoutpca = pd.read_json(\"output/model_evaluation/model_output_no_pca.json\")\n",
    "show_train_test_heatmap(balanced_specimen1_withoutpca, \"Balanced Model-PLS, Specimen split\")\n",
    "#show_train_test_heatmap(balanced_specimen1_pca, \"Balanced Model-PCA-No30, Specimen split\", \"Test_RMSE\", \"Train_RMSE\", \"YlGnBu_r\")"
   ],
   "outputs": []
  },
  {
   "cell_type": "code",
   "execution_count": 1,
   "metadata": {
    "jupyter": {
     "source_hidden": true
    }
   },
   "source": [
    "#balanced_specimen = pd.read_json(\"../../temp/spectra_treated/nir/balanced/model_output_balanced_scaling.json\")\n",
    "#show_train_test_heatmap(balanced_specimen, \"Balanced Model_new, Specimen split\")\n",
    "#show_train_test_heatmap(balanced_specimen, \"Balanced Model_new, Specimen split\", \"Test_RMSE\", \"Train_RMSE\", \"YlGnBu_r\")\n",
    "\n",
    "#balanced_specimen = pd.read_json(\"../../temp/spectra_treated/nir/balanced/pls_xgb_model_output_balanced_scaling.json\")\n",
    "#show_train_test_heatmap(balanced_specimen, \"Balanced Model_new, Specimen split\")\n",
    "#show_train_test_heatmap(balanced_specimen, \"Balanced Model_new, Specimen split\", \"Test_RMSE\", \"Train_RMSE\", \"YlGnBu_r\")"
   ],
   "outputs": []
  }
 ],
 "metadata": {
  "kernelspec": {
   "display_name": "Python 3 (ipykernel)",
   "language": "python",
   "name": "python3"
  },
  "language_info": {
   "codemirror_mode": {
    "name": "ipython",
    "version": 3
   },
   "file_extension": ".py",
   "mimetype": "text/x-python",
   "name": "python",
   "nbconvert_exporter": "python",
   "pygments_lexer": "ipython3",
   "version": "3.8.5"
  }
 },
 "nbformat": 4,
 "nbformat_minor": 4
}
