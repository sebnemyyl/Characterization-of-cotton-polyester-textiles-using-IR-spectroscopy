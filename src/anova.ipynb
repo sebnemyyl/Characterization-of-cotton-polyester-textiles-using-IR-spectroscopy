{
 "cells": [
  {
   "cell_type": "code",
   "execution_count": 2,
   "metadata": {},
   "source": [
    "import pandas as pd\n",
    "from scipy.stats import f_oneway\n",
    "import numpy as np"
   ],
   "outputs": []
  },
  {
   "cell_type": "code",
   "execution_count": 3,
   "metadata": {},
   "source": [
    "data = pd.read_csv('../input/spectra_mir_240806.csv', sep=\";\", header=0)"
   ],
   "outputs": []
  },
  {
   "cell_type": "code",
   "execution_count": 4,
   "metadata": {},
   "source": [
    "data"
   ],
   "outputs": []
  },
  {
   "cell_type": "code",
   "execution_count": 5,
   "metadata": {},
   "source": [
    "related_data = data[data['pet'] == 70] \n",
    "related_data = related_data.drop(['pet', 'cotton','area','spot','measuring_date','Unnamed: 0'], axis=1)"
   ],
   "outputs": []
  },
  {
   "cell_type": "code",
   "execution_count": 12,
   "metadata": {},
   "source": [
    "type(related_data[1:1])\n"
   ],
   "outputs": []
  },
  {
   "cell_type": "code",
   "execution_count": null,
   "metadata": {},
   "source": [
    "\n",
    "\n",
    "# Function to apply SNV\n",
    "def apply_snv(spectrum):\n",
    "    mean = np.mean(spectrum)\n",
    "    std_dev = np.std(spectrum)\n",
    "    return (spectrum - mean) / std_dev\n",
    "\n",
    "# Apply SNV to each row (spectrum) in the DataFrame\n",
    "snv_transformed_df = df.apply(apply_snv, axis=1)\n",
    "\n",
    "# Check the first few rows to ensure SNV was applied\n",
    "print(snv_transformed_df.head())\n",
    "\n",
    "# Proceed with further analysis, such as peak finding and ANOVA\n",
    "# For example, calculate the mean spectrum to identify peaks\n",
    "mean_spectrum = snv_transformed_df.mean(axis=0)\n"
   ],
   "outputs": []
  },
  {
   "cell_type": "code",
   "execution_count": 111,
   "metadata": {},
   "source": [
    "specimen1 = related_data[related_data[\"specimen\"]==1]\n",
    "specimen2 = related_data[related_data[\"specimen\"]==2]\n",
    "specimen3 = related_data[related_data[\"specimen\"]==3]"
   ],
   "outputs": []
  },
  {
   "cell_type": "code",
   "execution_count": 115,
   "metadata": {},
   "source": [
    "specimen1 = specimen1.to_numeric('float64')"
   ],
   "outputs": []
  },
  {
   "cell_type": "code",
   "execution_count": 112,
   "metadata": {},
   "source": [
    "stats.f_oneway(specimen1, specimen2, specimen3)"
   ],
   "outputs": []
  },
  {
   "cell_type": "code",
   "execution_count": null,
   "metadata": {},
   "source": [],
   "outputs": []
  }
 ],
 "metadata": {
  "kernelspec": {
   "display_name": "Python 3",
   "language": "python",
   "name": "python3"
  },
  "language_info": {
   "codemirror_mode": {
    "name": "ipython",
    "version": 3
   },
   "file_extension": ".py",
   "mimetype": "text/x-python",
   "name": "python",
   "nbconvert_exporter": "python",
   "pygments_lexer": "ipython3",
   "version": "3.8.5"
  }
 },
 "nbformat": 4,
 "nbformat_minor": 4
}
